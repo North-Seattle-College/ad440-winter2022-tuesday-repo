{
 "cells": [
  {
   "cell_type": "markdown",
   "id": "975db9eb",
   "metadata": {},
   "source": [
    "# Data Acquisition"
   ]
  },
  {
   "cell_type": "code",
   "execution_count": 2,
   "id": "ae3ee904",
   "metadata": {},
   "outputs": [],
   "source": [
    "import json\n",
    "import numpy as np\n",
    "import pandas as pd\n",
    "\n",
    "f = open('floopData02-16-2022-21-06-37.json')\n",
    "data = json.load(f)\n",
    "a = np.array(data,dtype=object)\n",
    "alist = []\n",
    "\n",
    "num = 0\n",
    "\n",
    "for i in a:\n",
    "    length = len(a[num])\n",
    "    alist.append(length)\n",
    "    num += 1\n",
    "\n",
    "b = np.array(alist)\n"
   ]
  },
  {
   "cell_type": "code",
   "execution_count": 3,
   "id": "0d7d36bf",
   "metadata": {},
   "outputs": [
    {
     "name": "stderr",
     "output_type": "stream",
     "text": [
      "[nltk_data] Downloading package nps_chat to\n",
      "[nltk_data]     C:\\Users\\jiajh\\AppData\\Roaming\\nltk_data...\n",
      "[nltk_data]   Package nps_chat is already up-to-date!\n",
      "[nltk_data] Downloading package punkt to\n",
      "[nltk_data]     C:\\Users\\jiajh\\AppData\\Roaming\\nltk_data...\n",
      "[nltk_data]   Package punkt is already up-to-date!\n"
     ]
    }
   ],
   "source": [
    "import nltk\n",
    "nltk.download('nps_chat')\n",
    "nltk.download('punkt')\n",
    "from nltk.corpus import nps_chat\n",
    "\n",
    "Question_Words = [ 'where','how','why','did','do','does',\"isn't\",'has','am i', 'are','can','could','is','may',\"can't\", \n",
    "\"didn't\",'will','when',\"doesn't\",\"haven't\",'have','what',\"aren't\",'would',\"couldn't\",\"wouldn't\",\"won't\",\"shouldn't\",'should']\n",
    "\n",
    "questionList = []\n",
    "\n",
    "posts = nltk.corpus.nps_chat.xml_posts()[:10000]\n",
    "    #input chat posts\n",
    "    # 2. Tokenize sentences using NLTK's word_tokenize\n",
    "    # return dict of tokenized words\n",
    "\n",
    "def post_features(post):\n",
    "    features = {}\n",
    "    for word in nltk.word_tokenize(post):\n",
    "        features['contains({})'.format(word.lower())] = True\n",
    "\n",
    "    return features\n",
    "\n",
    "#feature=dialogue_act_features(posts)\n",
    "\n",
    "    #Input: none\n",
    "    #  1. Divide data into 80% training and 10% testing sets\n",
    "    # 2. Use NLTK's Multinomial Naive Bayes to perform classifcation    \n",
    "    # Return: Classifier object\n",
    "\n",
    "def __perform_classification():\n",
    "        featuresets = [(post_features(post.text), post.get('class')) for post in posts]\n",
    "\n",
    "        #print(f)\n",
    "        training_size = int(len(featuresets) * 0.1)\n",
    "        train_set, test_set = featuresets[training_size:], featuresets[:training_size]\n",
    "\n",
    "        classifier = nltk.NaiveBayesClassifier.train(train_set)\n",
    "\n",
    "        #$print(classifier)\n",
    "        return classifier\n",
    "\n",
    "\n",
    "\n",
    "cl= __perform_classification()\n",
    "\n",
    "\n",
    "types = [\"whQuestion\",\"ynQuestion\",\"Statement\"]\n",
    "# Input a sentence\n",
    "# returns the type sentence\n",
    "def is_ques(ques):\n",
    "    question_type = cl.classify(post_features(ques)) \n",
    "\n",
    "    return  question_type\n",
    "\n",
    "\n",
    "\n",
    "    # Method : IsQuestion\n",
    "    # Input: Sentence to be predicted\n",
    "    # Return: type of sentence it is using nltk  \n",
    "def IsQuestion(sentence):\n",
    "    type=is_ques(sentence)\n",
    "    #print(\"type is\"+type) \n",
    "    first_word = sentence.split()[0].lower()  \n",
    "\n",
    "\n",
    "    if  ((type==\"whQuestion\" or type== \"ynQuestion\") or (first_word in Question_Words ))  :\n",
    "\n",
    "        return 1\n",
    "\n",
    "    elif type==\"Other\" or type== \"Reject\":\n",
    "        return 2  \n",
    "\n",
    "    else:        \n",
    "        return 0\n",
    "\n",
    "for j in a:\n",
    "    changeStr = ' '.join([str(elem) for elem in j])\n",
    "    check = IsQuestion(changeStr)\n",
    "    #if check == \"NaN\":\n",
    "        #print(changeStr)\n",
    "    questionList.append(check)\n",
    "\n",
    "# print(questionList)"
   ]
  },
  {
   "cell_type": "code",
   "execution_count": 5,
   "id": "6dc57f51",
   "metadata": {},
   "outputs": [
    {
     "name": "stderr",
     "output_type": "stream",
     "text": [
      "[nltk_data] Downloading package vader_lexicon to\n",
      "[nltk_data]     C:\\Users\\jiajh\\AppData\\Roaming\\nltk_data...\n",
      "[nltk_data]   Package vader_lexicon is already up-to-date!\n",
      "[nltk_data] Downloading package stopwords to\n",
      "[nltk_data]     C:\\Users\\jiajh\\AppData\\Roaming\\nltk_data...\n",
      "[nltk_data]   Package stopwords is already up-to-date!\n",
      "[nltk_data] Downloading package wordnet to\n",
      "[nltk_data]     C:\\Users\\jiajh\\AppData\\Roaming\\nltk_data...\n",
      "[nltk_data]   Package wordnet is already up-to-date!\n"
     ]
    }
   ],
   "source": [
    "import string\n",
    "from collections import Counter\n",
    "import nltk\n",
    "nltk.download('vader_lexicon')\n",
    "nltk.download('stopwords')\n",
    "nltk.download('wordnet')\n",
    "import matplotlib.pyplot as plt\n",
    "from nltk.corpus import stopwords\n",
    "from nltk.sentiment.vader import SentimentIntensityAnalyzer\n",
    "from nltk.stem import WordNetLemmatizer\n",
    "from nltk.tokenize import word_tokenize\n",
    "\n",
    "sentimentList = []\n",
    "keywordList = []\n",
    "\n",
    "key_words = [\"noticed\", \"like\", \"feel\", \"realize\", \"want\", \"success\", \"change\", \"transform\", \"convert\", \"evaluate\", \n",
    "\"estimate\", \"measure\", \"compartmentalize\", \"create\", \"cause\", \"effect\", \"achieve\", \"accomplish\", \"important\", \"significant\",\n",
    "\"consider\", \"believe\", \"think\", \"recall\", \"remind\", \"attention\", \"regard\", \"interest\", \"lirst\", \"last\",\n",
    "\"explain\", \"decide\", \"determine\", \"identify\", \"influence\", \"affect\", \"put\"]\n",
    "\n",
    "def sentiment_analyse(sentiment_text):\n",
    "    score = SentimentIntensityAnalyzer().polarity_scores(sentiment_text)\n",
    "    if score['neg'] > score['pos']:\n",
    "        return 0\n",
    "    elif score['neg'] < score['pos']:\n",
    "        return 1\n",
    "    else:\n",
    "        return 2\n",
    "        \n",
    "def clean_sentence(feedback):\n",
    "    lower_case = feedback.lower()\n",
    "    cleaned_text = lower_case.translate(str.maketrans('', '', string.punctuation))\n",
    "    \n",
    "    return cleaned_text\n",
    "\n",
    "def key_words_search(feedback):\n",
    "    tokenized_words = feedback.split()\n",
    "    lemma_words = []\n",
    "    count_key = 0\n",
    "    \n",
    "    for word in tokenized_words:\n",
    "        word = WordNetLemmatizer().lemmatize(word)\n",
    "        lemma_words.append(word)\n",
    "        \n",
    "    for word in lemma_words:\n",
    "        if word in key_words:\n",
    "            count_key = count_key + 1\n",
    "    \n",
    "    return count_key\n",
    "    \n",
    "for h in a:\n",
    "    changeStr = ' '.join([str(elem) for elem in h])\n",
    "    cleaned_text = clean_sentence(changeStr)\n",
    "    keyword = key_words_search(cleaned_text)\n",
    "    result = sentiment_analyse(cleaned_text)\n",
    "    sentimentList.append(result)\n",
    "    keywordList.append(keyword)\n",
    "\n",
    "#print(keywordList)\n",
    "#print(sentimentList)"
   ]
  },
  {
   "cell_type": "code",
   "execution_count": 6,
   "id": "1eeee8bc",
   "metadata": {},
   "outputs": [
    {
     "name": "stdout",
     "output_type": "stream",
     "text": [
      "question True:1 False:0 another:2, keywords: frequency, sentiment: Positive:1 Negative:0 Neutral:2\n"
     ]
    },
    {
     "data": {
      "text/html": [
       "<div>\n",
       "<style scoped>\n",
       "    .dataframe tbody tr th:only-of-type {\n",
       "        vertical-align: middle;\n",
       "    }\n",
       "\n",
       "    .dataframe tbody tr th {\n",
       "        vertical-align: top;\n",
       "    }\n",
       "\n",
       "    .dataframe thead th {\n",
       "        text-align: right;\n",
       "    }\n",
       "</style>\n",
       "<table border=\"1\" class=\"dataframe\">\n",
       "  <thead>\n",
       "    <tr style=\"text-align: right;\">\n",
       "      <th></th>\n",
       "      <th>cover_length</th>\n",
       "      <th>question</th>\n",
       "      <th>keywords</th>\n",
       "      <th>sentiment</th>\n",
       "    </tr>\n",
       "  </thead>\n",
       "  <tbody>\n",
       "    <tr>\n",
       "      <th>0</th>\n",
       "      <td>1</td>\n",
       "      <td>0</td>\n",
       "      <td>0</td>\n",
       "      <td>2</td>\n",
       "    </tr>\n",
       "    <tr>\n",
       "      <th>1</th>\n",
       "      <td>1</td>\n",
       "      <td>0</td>\n",
       "      <td>0</td>\n",
       "      <td>1</td>\n",
       "    </tr>\n",
       "    <tr>\n",
       "      <th>2</th>\n",
       "      <td>2</td>\n",
       "      <td>0</td>\n",
       "      <td>1</td>\n",
       "      <td>1</td>\n",
       "    </tr>\n",
       "    <tr>\n",
       "      <th>3</th>\n",
       "      <td>5</td>\n",
       "      <td>0</td>\n",
       "      <td>0</td>\n",
       "      <td>1</td>\n",
       "    </tr>\n",
       "    <tr>\n",
       "      <th>4</th>\n",
       "      <td>1</td>\n",
       "      <td>0</td>\n",
       "      <td>0</td>\n",
       "      <td>2</td>\n",
       "    </tr>\n",
       "  </tbody>\n",
       "</table>\n",
       "</div>"
      ],
      "text/plain": [
       "   cover_length  question  keywords  sentiment\n",
       "0             1         0         0          2\n",
       "1             1         0         0          1\n",
       "2             2         0         1          1\n",
       "3             5         0         0          1\n",
       "4             1         0         0          2"
      ]
     },
     "execution_count": 6,
     "metadata": {},
     "output_type": "execute_result"
    }
   ],
   "source": [
    "df = pd.DataFrame({\"cover_length\": b, \"question\":questionList, \"keywords\": keywordList, \"sentiment\":sentimentList})\n",
    "print(\"question True:1 False:0 another:2, keywords: frequency, sentiment: Positive:1 Negative:0 Neutral:2\")\n",
    "df.head()"
   ]
  },
  {
   "cell_type": "markdown",
   "id": "338e01d1",
   "metadata": {},
   "source": [
    "## Assumptions:  feedback got more replies than the average it is good"
   ]
  },
  {
   "cell_type": "code",
   "execution_count": 7,
   "id": "04473abc",
   "metadata": {
    "scrolled": true
   },
   "outputs": [
    {
     "data": {
      "text/html": [
       "<div>\n",
       "<style scoped>\n",
       "    .dataframe tbody tr th:only-of-type {\n",
       "        vertical-align: middle;\n",
       "    }\n",
       "\n",
       "    .dataframe tbody tr th {\n",
       "        vertical-align: top;\n",
       "    }\n",
       "\n",
       "    .dataframe thead th {\n",
       "        text-align: right;\n",
       "    }\n",
       "</style>\n",
       "<table border=\"1\" class=\"dataframe\">\n",
       "  <thead>\n",
       "    <tr style=\"text-align: right;\">\n",
       "      <th></th>\n",
       "      <th>cover_length</th>\n",
       "      <th>question</th>\n",
       "      <th>keywords</th>\n",
       "      <th>sentiment</th>\n",
       "      <th>good_feedback</th>\n",
       "    </tr>\n",
       "  </thead>\n",
       "  <tbody>\n",
       "    <tr>\n",
       "      <th>0</th>\n",
       "      <td>1</td>\n",
       "      <td>0</td>\n",
       "      <td>0</td>\n",
       "      <td>2</td>\n",
       "      <td>False</td>\n",
       "    </tr>\n",
       "    <tr>\n",
       "      <th>1</th>\n",
       "      <td>1</td>\n",
       "      <td>0</td>\n",
       "      <td>0</td>\n",
       "      <td>1</td>\n",
       "      <td>False</td>\n",
       "    </tr>\n",
       "    <tr>\n",
       "      <th>2</th>\n",
       "      <td>2</td>\n",
       "      <td>0</td>\n",
       "      <td>1</td>\n",
       "      <td>1</td>\n",
       "      <td>True</td>\n",
       "    </tr>\n",
       "    <tr>\n",
       "      <th>3</th>\n",
       "      <td>5</td>\n",
       "      <td>0</td>\n",
       "      <td>0</td>\n",
       "      <td>1</td>\n",
       "      <td>True</td>\n",
       "    </tr>\n",
       "    <tr>\n",
       "      <th>4</th>\n",
       "      <td>1</td>\n",
       "      <td>0</td>\n",
       "      <td>0</td>\n",
       "      <td>2</td>\n",
       "      <td>False</td>\n",
       "    </tr>\n",
       "  </tbody>\n",
       "</table>\n",
       "</div>"
      ],
      "text/plain": [
       "   cover_length  question  keywords  sentiment  good_feedback\n",
       "0             1         0         0          2          False\n",
       "1             1         0         0          1          False\n",
       "2             2         0         1          1           True\n",
       "3             5         0         0          1           True\n",
       "4             1         0         0          2          False"
      ]
     },
     "execution_count": 7,
     "metadata": {},
     "output_type": "execute_result"
    }
   ],
   "source": [
    "df[\"good_feedback\"] = df[\"cover_length\"] > df[\"cover_length\"].mean()\n",
    "df.head()\n"
   ]
  },
  {
   "cell_type": "code",
   "execution_count": 8,
   "id": "cf4d106f",
   "metadata": {},
   "outputs": [
    {
     "data": {
      "image/png": "[encoded data removed]",
      "text/plain": [
       "<Figure size 432x288 with 1 Axes>"
      ]
     },
     "metadata": {
      "needs_background": "light"
     },
     "output_type": "display_data"
    }
   ],
   "source": [
    "import matplotlib.pyplot as plt\n",
    "import seaborn as sns\n",
    "plt.figure()\n",
    "sns.countplot(x='question', hue='good_feedback', data=df, palette='RdBu')\n",
    "plt.xticks([0,1,2], ['No', 'Yes', 'another'])\n",
    "plt.show()"
   ]
  },
  {
   "cell_type": "markdown",
   "id": "702b97f8",
   "metadata": {},
   "source": [
    "# check the correlation coefficient"
   ]
  },
  {
   "cell_type": "code",
   "execution_count": 9,
   "id": "cec33eb4",
   "metadata": {},
   "outputs": [
    {
     "data": {
      "text/html": [
       "<div>\n",
       "<style scoped>\n",
       "    .dataframe tbody tr th:only-of-type {\n",
       "        vertical-align: middle;\n",
       "    }\n",
       "\n",
       "    .dataframe tbody tr th {\n",
       "        vertical-align: top;\n",
       "    }\n",
       "\n",
       "    .dataframe thead th {\n",
       "        text-align: right;\n",
       "    }\n",
       "</style>\n",
       "<table border=\"1\" class=\"dataframe\">\n",
       "  <thead>\n",
       "    <tr style=\"text-align: right;\">\n",
       "      <th></th>\n",
       "      <th>cover_length</th>\n",
       "      <th>question</th>\n",
       "      <th>keywords</th>\n",
       "      <th>sentiment</th>\n",
       "      <th>good_feedback</th>\n",
       "    </tr>\n",
       "  </thead>\n",
       "  <tbody>\n",
       "    <tr>\n",
       "      <th>cover_length</th>\n",
       "      <td>1.000000</td>\n",
       "      <td>-0.041907</td>\n",
       "      <td>0.199970</td>\n",
       "      <td>-0.088903</td>\n",
       "      <td>0.824634</td>\n",
       "    </tr>\n",
       "    <tr>\n",
       "      <th>question</th>\n",
       "      <td>-0.041907</td>\n",
       "      <td>1.000000</td>\n",
       "      <td>-0.103646</td>\n",
       "      <td>0.141254</td>\n",
       "      <td>-0.046258</td>\n",
       "    </tr>\n",
       "    <tr>\n",
       "      <th>keywords</th>\n",
       "      <td>0.199970</td>\n",
       "      <td>-0.103646</td>\n",
       "      <td>1.000000</td>\n",
       "      <td>-0.148551</td>\n",
       "      <td>0.129271</td>\n",
       "    </tr>\n",
       "    <tr>\n",
       "      <th>sentiment</th>\n",
       "      <td>-0.088903</td>\n",
       "      <td>0.141254</td>\n",
       "      <td>-0.148551</td>\n",
       "      <td>1.000000</td>\n",
       "      <td>-0.097538</td>\n",
       "    </tr>\n",
       "    <tr>\n",
       "      <th>good_feedback</th>\n",
       "      <td>0.824634</td>\n",
       "      <td>-0.046258</td>\n",
       "      <td>0.129271</td>\n",
       "      <td>-0.097538</td>\n",
       "      <td>1.000000</td>\n",
       "    </tr>\n",
       "  </tbody>\n",
       "</table>\n",
       "</div>"
      ],
      "text/plain": [
       "               cover_length  question  keywords  sentiment  good_feedback\n",
       "cover_length       1.000000 -0.041907  0.199970  -0.088903       0.824634\n",
       "question          -0.041907  1.000000 -0.103646   0.141254      -0.046258\n",
       "keywords           0.199970 -0.103646  1.000000  -0.148551       0.129271\n",
       "sentiment         -0.088903  0.141254 -0.148551   1.000000      -0.097538\n",
       "good_feedback      0.824634 -0.046258  0.129271  -0.097538       1.000000"
      ]
     },
     "execution_count": 9,
     "metadata": {},
     "output_type": "execute_result"
    }
   ],
   "source": [
    "columns = ['cover_length', 'question', 'keywords', 'sentiment', 'good_feedback']\n",
    "subset = df[columns]\n",
    "subset.corr()"
   ]
  },
  {
   "cell_type": "markdown",
   "id": "86684d9c",
   "metadata": {},
   "source": [
    "The result is a \"corelation matrix\". \n",
    "Looks like the good_feedback has more corrlation with keywords because its positive."
   ]
  },
  {
   "cell_type": "code",
   "execution_count": 10,
   "id": "eae79c85",
   "metadata": {
    "scrolled": true
   },
   "outputs": [
    {
     "data": {
      "image/png": "[encoded data removed]",
      "text/plain": [
       "<Figure size 432x288 with 1 Axes>"
      ]
     },
     "metadata": {
      "needs_background": "light"
     },
     "output_type": "display_data"
    }
   ],
   "source": [
    "sns.boxplot(x='cover_length', y = 'keywords', data=df, whis=10)\n",
    "plt.yscale('log')\n",
    "plt.show()"
   ]
  },
  {
   "cell_type": "markdown",
   "id": "30d30de6",
   "metadata": {},
   "source": [
    "# Visualizing and Numerical EDA for the good feedback"
   ]
  },
  {
   "cell_type": "code",
   "execution_count": 20,
   "id": "ea08349d",
   "metadata": {},
   "outputs": [
    {
     "name": "stdout",
     "output_type": "stream",
     "text": [
      "       cover_length    question    keywords   sentiment\n",
      "count    306.000000  306.000000  306.000000  306.000000\n",
      "mean       2.604575    0.535948    0.362745    1.153595\n",
      "std        1.091177    0.868586    1.063146    0.686595\n",
      "min        2.000000    0.000000    0.000000    0.000000\n",
      "25%        2.000000    0.000000    0.000000    1.000000\n",
      "50%        2.000000    0.000000    0.000000    1.000000\n",
      "75%        3.000000    1.750000    0.000000    2.000000\n",
      "max        8.000000    2.000000   13.000000    2.000000\n"
     ]
    }
   ],
   "source": [
    "good_feedback = df[df[\"good_feedback\"] == True]\n",
    "print(good_feedback.describe())"
   ]
  },
  {
   "cell_type": "code",
   "execution_count": 12,
   "id": "d5d7a118",
   "metadata": {},
   "outputs": [
    {
     "data": {
      "image/png": "[encoded data removed]",
      "text/plain": [
       "<Figure size 432x288 with 1 Axes>"
      ]
     },
     "metadata": {
      "needs_background": "light"
     },
     "output_type": "display_data"
    }
   ],
   "source": [
    "plt.figure()\n",
    "sns.countplot(x='cover_length', hue='good_feedback', data=good_feedback)\n",
    "plt.show()"
   ]
  },
  {
   "cell_type": "code",
   "execution_count": 13,
   "id": "31a0110c",
   "metadata": {},
   "outputs": [
    {
     "data": {
      "image/png": "[encoded data removed]",
      "text/plain": [
       "<Figure size 432x288 with 1 Axes>"
      ]
     },
     "metadata": {
      "needs_background": "light"
     },
     "output_type": "display_data"
    }
   ],
   "source": [
    "plt.figure()\n",
    "sns.countplot(x='keywords', hue='good_feedback', data=good_feedback)\n",
    "plt.show()"
   ]
  },
  {
   "cell_type": "code",
   "execution_count": 14,
   "id": "b5083be9",
   "metadata": {},
   "outputs": [
    {
     "data": {
      "image/png": "[encoded data removed]",
      "text/plain": [
       "<Figure size 432x288 with 1 Axes>"
      ]
     },
     "metadata": {
      "needs_background": "light"
     },
     "output_type": "display_data"
    }
   ],
   "source": [
    "plt.figure()\n",
    "sns.countplot(x='sentiment', hue='good_feedback', data=good_feedback)\n",
    "plt.xticks([0,1,2], ['Negative', 'Positive', 'Neutral'])\n",
    "plt.show()"
   ]
  },
  {
   "cell_type": "code",
   "execution_count": 15,
   "id": "1d08b654",
   "metadata": {},
   "outputs": [
    {
     "data": {
      "image/png": "[encoded data removed]",
      "text/plain": [
       "<Figure size 432x288 with 1 Axes>"
      ]
     },
     "metadata": {
      "needs_background": "light"
     },
     "output_type": "display_data"
    }
   ],
   "source": [
    "plt.figure()\n",
    "sns.countplot(x='question', hue='good_feedback', data=good_feedback)\n",
    "plt.xticks([0,1,2], ['question', 'Statement', 'another'])\n",
    "plt.show()"
   ]
  },
  {
   "cell_type": "markdown",
   "id": "ffd5600c",
   "metadata": {},
   "source": [
    "# Tag the dataset with \"good\" and \"bad\" and store in temporary list"
   ]
  },
  {
   "cell_type": "code",
   "execution_count": 18,
   "id": "a49c6a8e",
   "metadata": {},
   "outputs": [],
   "source": [
    "temp_List = a \n",
    "num = 0\n",
    "avg_length = df[\"cover_length\"].mean()\n",
    "for i in a:\n",
    "    length = len(a[num])\n",
    "    if length >= avg_length:\n",
    "        temp_List[num].append({'quality_feedback':True})\n",
    "    else:\n",
    "        temp_List[num].append({'quality_feedback':False})\n",
    "    \n",
    "    num += 1"
   ]
  },
  {
   "cell_type": "markdown",
   "id": "0ee30f2a",
   "metadata": {},
   "source": [
    "# Split the data 70/30 randomly"
   ]
  },
  {
   "cell_type": "code",
   "execution_count": 60,
   "id": "c842a13e-6eaf-4a2d-8e45-3b4a4be3e8af",
   "metadata": {},
   "outputs": [
    {
     "name": "stdout",
     "output_type": "stream",
     "text": [
      "4501\n",
      "10499\n",
      "--------------------------------------------------------------------\n",
      "4501\n",
      "10499\n"
     ]
    }
   ],
   "source": [
    "import random\n",
    "\n",
    "X_test = []\n",
    "X_train = []\n",
    "y_test = []\n",
    "y_train = []\n",
    "count_good = 0\n",
    "count_bad = 0\n",
    "\n",
    "# shuffle the data randomly\n",
    "teamp_list = df.values.tolist()\n",
    "random.shuffle(teamp_list)\n",
    "\n",
    "# get the 30% of good feedback and bad feedback\n",
    "good_feedback = df[df[\"good_feedback\"] == True]\n",
    "bad_feedback = df[df[\"good_feedback\"] == False]\n",
    "good_30 = int(len(good_feedback) * 0.3)\n",
    "bad_30 = int(len(bad_feedback) * 0.3)\n",
    "\n",
    "# put data into 30% test 70% train \n",
    "for i in range(len(teamp_list)):\n",
    "    if teamp_list[i][4]== False:\n",
    "        if count_bad <= bad_30:\n",
    "            X_test.append(teamp_list[i][0:4])\n",
    "            y_test.append(teamp_list[i][4])\n",
    "            count_bad = count_bad + 1\n",
    "        else:\n",
    "            X_train.append(teamp_list[i][0:4])\n",
    "            y_train.append(teamp_list[i][4])\n",
    "    else:\n",
    "        if count_good <= good_30:\n",
    "            X_test.append(teamp_list[i][0:4])\n",
    "            y_test.append(teamp_list[i][4])\n",
    "            count_good = count_good + 1\n",
    "        else:\n",
    "            X_train.append(teamp_list[i][0:4])\n",
    "            y_train.append(teamp_list[i][4])\n",
    "\n",
    "#print(len(X_test))\n",
    "#print(len(X_train))\n",
    "#print('--------------------------------------------------------------------')\n",
    "#print(len(y_test))\n",
    "#print(len(y_train))"
   ]
  },
  {
   "cell_type": "markdown",
   "id": "b1e41bf6",
   "metadata": {},
   "source": [
    "# Create linear regression classifier and check the accuracy of the model"
   ]
  },
  {
   "cell_type": "code",
   "execution_count": 61,
   "id": "6acc8870-78ed-4c6e-97ae-8c993c79bb05",
   "metadata": {
    "scrolled": true
   },
   "outputs": [
    {
     "name": "stdout",
     "output_type": "stream",
     "text": [
      "0.6004170908322115\n"
     ]
    }
   ],
   "source": [
    "from sklearn.linear_model import LinearRegression\n",
    "\n",
    "# create Linear Regression classifier\n",
    "reg = LinearRegression()\n",
    "\n",
    "# fit the data in it\n",
    "reg.fit(X_train, y_train)\n",
    "\n",
    "# print the accuracy of the model\n",
    "# expected that will be low\n",
    "print(reg.score(X_test, y_test))"
   ]
  }
 ],
 "metadata": {
  "kernelspec": {
   "display_name": "Python 3 (ipykernel)",
   "language": "python",
   "name": "python3"
  },
  "language_info": {
   "codemirror_mode": {
    "name": "ipython",
    "version": 3
   },
   "file_extension": ".py",
   "mimetype": "text/x-python",
   "name": "python",
   "nbconvert_exporter": "python",
   "pygments_lexer": "ipython3",
   "version": "3.9.7"
  }
 },
 "nbformat": 4,
 "nbformat_minor": 5
}
