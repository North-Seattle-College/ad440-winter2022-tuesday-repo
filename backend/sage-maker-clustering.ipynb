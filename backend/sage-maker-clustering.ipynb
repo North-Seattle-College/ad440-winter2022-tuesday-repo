{
 "cells": [
  {
   "cell_type": "code",
   "execution_count": 4,
   "metadata": {},
   "outputs": [],
   "source": [
    "#!pip install gensim"
   ]
  },
  {
   "cell_type": "code",
   "execution_count": 5,
   "metadata": {},
   "outputs": [
    {
     "name": "stderr",
     "output_type": "stream",
     "text": [
      "INFO - 03:36:24: generated new fontManager\n"
     ]
    }
   ],
   "source": [
    "from sklearn.cluster import KMeans\n",
    "import pandas as pd\n",
    "import numpy as np\n",
    "import re\n",
    "import nltk\n",
    "import os\n",
    "\n",
    "from sqlalchemy import column\n",
    "\n",
    "from gensim.models import Word2Vec\n",
    "from time import time  # To time our operations\n",
    "from collections import defaultdict  # For word frequency\n",
    "import logging  # Setting up the loggings to monitor gensim\n",
    "logging.basicConfig(format=\"%(levelname)s - %(asctime)s: %(message)s\", datefmt= '%H:%M:%S', level=logging.INFO)\n",
    "\n",
    "import matplotlib.pyplot as plt"
   ]
  },
  {
   "cell_type": "code",
   "execution_count": 11,
   "metadata": {},
   "outputs": [
    {
     "name": "stdin",
     "output_type": "stream",
     "text": [
      "Enter the file Path floop_data_15k.json\n"
     ]
    },
    {
     "name": "stderr",
     "output_type": "stream",
     "text": [
      "[nltk_data] Downloading package punkt to /root/nltk_data...\n",
      "[nltk_data]   Package punkt is already up-to-date!\n",
      "[nltk_data] Downloading package omw-1.4 to /root/nltk_data...\n",
      "[nltk_data]   Package omw-1.4 is already up-to-date!\n",
      "[nltk_data] Downloading package wordnet to /root/nltk_data...\n",
      "[nltk_data]   Package wordnet is already up-to-date!\n",
      "INFO - 03:40:37: Word2Vec lifecycle event {'params': 'Word2Vec(vocab=0, vector_size=100, alpha=0.03)', 'datetime': '2022-02-14T03:40:37.338948', 'gensim': '4.1.2', 'python': '3.7.10 (default, Jun  4 2021, 14:48:32) \\n[GCC 7.5.0]', 'platform': 'Linux-4.14.256-197.484.amzn2.x86_64-x86_64-with-debian-10.6', 'event': 'created'}\n",
      "INFO - 03:40:37: collecting all words and their counts\n",
      "INFO - 03:40:37: PROGRESS: at sentence #0, processed 0 words, keeping 0 word types\n",
      "INFO - 03:40:37: PROGRESS: at sentence #10000, processed 80287 words, keeping 8478 word types\n",
      "INFO - 03:40:37: collected 11409 word types from a corpus of 130228 raw words and 15617 sentences\n",
      "INFO - 03:40:37: Creating a fresh vocabulary\n",
      "INFO - 03:40:37: Word2Vec lifecycle event {'msg': 'effective_min_count=20 retains 702 unique words (6.153037075992637%% of original 11409, drops 10707)', 'datetime': '2022-02-14T03:40:37.392907', 'gensim': '4.1.2', 'python': '3.7.10 (default, Jun  4 2021, 14:48:32) \\n[GCC 7.5.0]', 'platform': 'Linux-4.14.256-197.484.amzn2.x86_64-x86_64-with-debian-10.6', 'event': 'prepare_vocab'}\n",
      "INFO - 03:40:37: Word2Vec lifecycle event {'msg': 'effective_min_count=20 leaves 104145 word corpus (79.97128113769696%% of original 130228, drops 26083)', 'datetime': '2022-02-14T03:40:37.393780', 'gensim': '4.1.2', 'python': '3.7.10 (default, Jun  4 2021, 14:48:32) \\n[GCC 7.5.0]', 'platform': 'Linux-4.14.256-197.484.amzn2.x86_64-x86_64-with-debian-10.6', 'event': 'prepare_vocab'}\n",
      "INFO - 03:40:37: deleting the raw counts dictionary of 11409 items\n",
      "INFO - 03:40:37: sample=6e-05 downsamples 702 most-common words\n",
      "INFO - 03:40:37: Word2Vec lifecycle event {'msg': 'downsampling leaves estimated 20859.838993870264 word corpus (20.0%% of prior 104145)', 'datetime': '2022-02-14T03:40:37.403343', 'gensim': '4.1.2', 'python': '3.7.10 (default, Jun  4 2021, 14:48:32) \\n[GCC 7.5.0]', 'platform': 'Linux-4.14.256-197.484.amzn2.x86_64-x86_64-with-debian-10.6', 'event': 'prepare_vocab'}\n",
      "INFO - 03:40:37: estimated required memory for 702 words and 100 dimensions: 912600 bytes\n",
      "INFO - 03:40:37: resetting layer weights\n",
      "INFO - 03:40:37: Word2Vec lifecycle event {'update': False, 'trim_rule': 'None', 'datetime': '2022-02-14T03:40:37.418975', 'gensim': '4.1.2', 'python': '3.7.10 (default, Jun  4 2021, 14:48:32) \\n[GCC 7.5.0]', 'platform': 'Linux-4.14.256-197.484.amzn2.x86_64-x86_64-with-debian-10.6', 'event': 'build_vocab'}\n",
      "INFO - 03:40:37: Word2Vec lifecycle event {'msg': 'training model with 1 workers on 702 vocabulary and 100 features, using sg=0 hs=0 sample=6e-05 negative=20 window=2 shrink_windows=True', 'datetime': '2022-02-14T03:40:37.420002', 'gensim': '4.1.2', 'python': '3.7.10 (default, Jun  4 2021, 14:48:32) \\n[GCC 7.5.0]', 'platform': 'Linux-4.14.256-197.484.amzn2.x86_64-x86_64-with-debian-10.6', 'event': 'train'}\n"
     ]
    },
    {
     "name": "stdout",
     "output_type": "stream",
     "text": [
      "['what', 'is', 'this', 'word']\n",
      "Time to build vocab: 0.0 mins\n"
     ]
    },
    {
     "name": "stderr",
     "output_type": "stream",
     "text": [
      "INFO - 03:40:37: worker thread finished; awaiting finish of 0 more threads\n",
      "INFO - 03:40:37: EPOCH - 1 : training on 130228 raw words (20640 effective words) took 0.1s, 151032 effective words/s\n",
      "INFO - 03:40:37: worker thread finished; awaiting finish of 0 more threads\n",
      "INFO - 03:40:37: EPOCH - 2 : training on 130228 raw words (20915 effective words) took 0.1s, 186057 effective words/s\n",
      "INFO - 03:40:37: worker thread finished; awaiting finish of 0 more threads\n",
      "INFO - 03:40:37: EPOCH - 3 : training on 130228 raw words (20958 effective words) took 0.1s, 191491 effective words/s\n",
      "INFO - 03:40:37: worker thread finished; awaiting finish of 0 more threads\n",
      "INFO - 03:40:37: EPOCH - 4 : training on 130228 raw words (20847 effective words) took 0.1s, 192852 effective words/s\n",
      "INFO - 03:40:38: worker thread finished; awaiting finish of 0 more threads\n",
      "INFO - 03:40:38: EPOCH - 5 : training on 130228 raw words (20782 effective words) took 0.1s, 181662 effective words/s\n",
      "INFO - 03:40:38: worker thread finished; awaiting finish of 0 more threads\n",
      "INFO - 03:40:38: EPOCH - 6 : training on 130228 raw words (20826 effective words) took 0.1s, 184359 effective words/s\n",
      "INFO - 03:40:38: worker thread finished; awaiting finish of 0 more threads\n",
      "INFO - 03:40:38: EPOCH - 7 : training on 130228 raw words (20870 effective words) took 0.1s, 186777 effective words/s\n",
      "INFO - 03:40:38: worker thread finished; awaiting finish of 0 more threads\n",
      "INFO - 03:40:38: EPOCH - 8 : training on 130228 raw words (21121 effective words) took 0.1s, 179969 effective words/s\n",
      "INFO - 03:40:38: worker thread finished; awaiting finish of 0 more threads\n",
      "INFO - 03:40:38: EPOCH - 9 : training on 130228 raw words (20834 effective words) took 0.1s, 185253 effective words/s\n",
      "INFO - 03:40:38: worker thread finished; awaiting finish of 0 more threads\n",
      "INFO - 03:40:38: EPOCH - 10 : training on 130228 raw words (20879 effective words) took 0.1s, 180483 effective words/s\n",
      "INFO - 03:40:38: worker thread finished; awaiting finish of 0 more threads\n",
      "INFO - 03:40:38: EPOCH - 11 : training on 130228 raw words (20998 effective words) took 0.1s, 188133 effective words/s\n",
      "INFO - 03:40:38: worker thread finished; awaiting finish of 0 more threads\n",
      "INFO - 03:40:38: EPOCH - 12 : training on 130228 raw words (20960 effective words) took 0.1s, 195888 effective words/s\n",
      "INFO - 03:40:39: worker thread finished; awaiting finish of 0 more threads\n",
      "INFO - 03:40:39: EPOCH - 13 : training on 130228 raw words (20913 effective words) took 0.1s, 189848 effective words/s\n",
      "INFO - 03:40:39: worker thread finished; awaiting finish of 0 more threads\n",
      "INFO - 03:40:39: EPOCH - 14 : training on 130228 raw words (20876 effective words) took 0.1s, 189491 effective words/s\n",
      "INFO - 03:40:39: worker thread finished; awaiting finish of 0 more threads\n",
      "INFO - 03:40:39: EPOCH - 15 : training on 130228 raw words (20948 effective words) took 0.1s, 187967 effective words/s\n",
      "INFO - 03:40:39: worker thread finished; awaiting finish of 0 more threads\n",
      "INFO - 03:40:39: EPOCH - 16 : training on 130228 raw words (20915 effective words) took 0.1s, 186908 effective words/s\n",
      "INFO - 03:40:39: worker thread finished; awaiting finish of 0 more threads\n",
      "INFO - 03:40:39: EPOCH - 17 : training on 130228 raw words (20821 effective words) took 0.1s, 185455 effective words/s\n",
      "INFO - 03:40:39: worker thread finished; awaiting finish of 0 more threads\n",
      "INFO - 03:40:39: EPOCH - 18 : training on 130228 raw words (20806 effective words) took 0.1s, 179908 effective words/s\n",
      "INFO - 03:40:39: worker thread finished; awaiting finish of 0 more threads\n",
      "INFO - 03:40:39: EPOCH - 19 : training on 130228 raw words (20796 effective words) took 0.1s, 188760 effective words/s\n",
      "INFO - 03:40:39: worker thread finished; awaiting finish of 0 more threads\n",
      "INFO - 03:40:39: EPOCH - 20 : training on 130228 raw words (20756 effective words) took 0.1s, 192642 effective words/s\n",
      "INFO - 03:40:40: worker thread finished; awaiting finish of 0 more threads\n",
      "INFO - 03:40:40: EPOCH - 21 : training on 130228 raw words (20946 effective words) took 0.1s, 187486 effective words/s\n",
      "INFO - 03:40:40: worker thread finished; awaiting finish of 0 more threads\n",
      "INFO - 03:40:40: EPOCH - 22 : training on 130228 raw words (21036 effective words) took 0.1s, 171870 effective words/s\n",
      "INFO - 03:40:40: worker thread finished; awaiting finish of 0 more threads\n",
      "INFO - 03:40:40: EPOCH - 23 : training on 130228 raw words (20739 effective words) took 0.1s, 193574 effective words/s\n",
      "INFO - 03:40:40: worker thread finished; awaiting finish of 0 more threads\n",
      "INFO - 03:40:40: EPOCH - 24 : training on 130228 raw words (20764 effective words) took 0.1s, 195442 effective words/s\n",
      "INFO - 03:40:40: worker thread finished; awaiting finish of 0 more threads\n",
      "INFO - 03:40:40: EPOCH - 25 : training on 130228 raw words (20799 effective words) took 0.1s, 187202 effective words/s\n",
      "INFO - 03:40:40: worker thread finished; awaiting finish of 0 more threads\n",
      "INFO - 03:40:40: EPOCH - 26 : training on 130228 raw words (20780 effective words) took 0.1s, 188318 effective words/s\n",
      "INFO - 03:40:40: worker thread finished; awaiting finish of 0 more threads\n",
      "INFO - 03:40:40: EPOCH - 27 : training on 130228 raw words (20993 effective words) took 0.1s, 190056 effective words/s\n",
      "INFO - 03:40:40: worker thread finished; awaiting finish of 0 more threads\n",
      "INFO - 03:40:40: EPOCH - 28 : training on 130228 raw words (20961 effective words) took 0.1s, 183928 effective words/s\n",
      "INFO - 03:40:40: worker thread finished; awaiting finish of 0 more threads\n",
      "INFO - 03:40:40: EPOCH - 29 : training on 130228 raw words (20804 effective words) took 0.1s, 183900 effective words/s\n",
      "INFO - 03:40:41: worker thread finished; awaiting finish of 0 more threads\n",
      "INFO - 03:40:41: EPOCH - 30 : training on 130228 raw words (21081 effective words) took 0.1s, 189449 effective words/s\n",
      "INFO - 03:40:41: Word2Vec lifecycle event {'msg': 'training on 3906840 raw words (626364 effective words) took 3.7s, 169860 effective words/s', 'datetime': '2022-02-14T03:40:41.108136', 'gensim': '4.1.2', 'python': '3.7.10 (default, Jun  4 2021, 14:48:32) \\n[GCC 7.5.0]', 'platform': 'Linux-4.14.256-197.484.amzn2.x86_64-x86_64-with-debian-10.6', 'event': 'train'}\n",
      "/opt/conda/lib/python3.7/site-packages/ipykernel_launcher.py:65: DeprecationWarning: Call to deprecated `init_sims` (Gensim 4.0.0 implemented internal optimizations that make calls to init_sims() unnecessary. init_sims() is now obsoleted and will be completely removed in future versions. See https://github.com/RaRe-Technologies/gensim/wiki/Migrating-from-Gensim-3.x-to-4).\n",
      "WARNING - 03:40:41: destructive init_sims(replace=True) deprecated & no longer required for space-efficiency\n",
      "INFO - 03:40:41: Word2Vec lifecycle event {'fname_or_handle': 'word2vec11.model', 'separately': 'None', 'sep_limit': 10485760, 'ignore': frozenset(), 'datetime': '2022-02-14T03:40:41.117432', 'gensim': '4.1.2', 'python': '3.7.10 (default, Jun  4 2021, 14:48:32) \\n[GCC 7.5.0]', 'platform': 'Linux-4.14.256-197.484.amzn2.x86_64-x86_64-with-debian-10.6', 'event': 'saving'}\n",
      "INFO - 03:40:41: not storing attribute cum_table\n",
      "INFO - 03:40:41: saved word2vec11.model\n",
      "INFO - 03:40:41: loading Word2Vec object from word2vec11.model\n",
      "INFO - 03:40:41: loading wv recursively from word2vec11.model.wv.* with mmap=None\n",
      "INFO - 03:40:41: setting ignored attribute cum_table to None\n",
      "INFO - 03:40:41: Word2Vec lifecycle event {'fname': 'word2vec11.model', 'datetime': '2022-02-14T03:40:41.175801', 'gensim': '4.1.2', 'python': '3.7.10 (default, Jun  4 2021, 14:48:32) \\n[GCC 7.5.0]', 'platform': 'Linux-4.14.256-197.484.amzn2.x86_64-x86_64-with-debian-10.6', 'event': 'loaded'}\n"
     ]
    },
    {
     "name": "stdout",
     "output_type": "stream",
     "text": [
      "Time to train the model: 0.06 mins\n"
     ]
    },
    {
     "name": "stderr",
     "output_type": "stream",
     "text": [
      "INFO - 03:40:42: NumExpr defaulting to 2 threads.\n"
     ]
    },
    {
     "data": {
      "image/png": "[encoded data removed]",
      "text/plain": [
       "<Figure size 432x288 with 1 Axes>"
      ]
     },
     "metadata": {
      "needs_background": "light"
     },
     "output_type": "display_data"
    }
   ],
   "source": [
    "\n",
    "# nltk.download()\n",
    "path = input(\"Enter the file Path\")\n",
    "df = pd.read_json (path)\n",
    "df.to_csv (r'floop_data_15k.csv', index = None)\n",
    "\n",
    "data = pd.read_csv(\"floop_data_15k.csv\")\n",
    "\n",
    "data.columns= [\"Field1\"]\n",
    "\n",
    "data.shape\n",
    "\n",
    "\n",
    "#To remove special characters and punctuation from our dataset\n",
    "from string import punctuation\n",
    "\n",
    "punctuations = punctuation\n",
    "\n",
    "def solution(sentence):\n",
    "    for p in punctuations:\n",
    "        sentence = sentence.replace(p, '')\n",
    "    return sentence\n",
    "\n",
    "x = data[\"Field1\"].apply(solution)\n",
    "pattern = \"[^a-zA-Z0-9]\"\n",
    "x_cleaned = [re.sub(pattern,\" \",text) for text in x]\n",
    "\n",
    "x_lowered = [text.lower() for text in x_cleaned]\n",
    "x_lowered\n",
    "\n",
    "x_lowered[0]\n",
    "\n",
    "nltk.download('punkt')\n",
    "nltk.download('omw-1.4')\n",
    "\n",
    "x_tokenized = [nltk.word_tokenize(text) for text in x_lowered]\n",
    "\n",
    "nltk.download('wordnet')\n",
    "from nltk.stem import WordNetLemmatizer\n",
    "lemma = WordNetLemmatizer()\n",
    "\n",
    "x_lemmatized = [[lemma.lemmatize(word) for word in text] for text in x_tokenized]\n",
    "\n",
    "print(x_lemmatized[0])\n",
    "\n",
    "\n",
    "\n",
    "\n",
    "\n",
    "# For classification data whether good or bad.\n",
    "\n",
    "w2v_model = Word2Vec(min_count=20,window=2,sample=6e-5, alpha=0.03, min_alpha=0.0007, negative=20,workers= 1 )\n",
    "\n",
    "t = time()\n",
    "\n",
    "w2v_model.build_vocab(x_lemmatized, progress_per=10000)\n",
    "\n",
    "print('Time to build vocab: {} mins'.format(round((time() - t) / 60, 2)))\n",
    "\n",
    "t = time()\n",
    "\n",
    "w2v_model.train(x_lemmatized, total_examples=w2v_model.corpus_count, epochs=30, report_delay=1)\n",
    "\n",
    "print('Time to train the model: {} mins'.format(round((time() - t) / 60, 2)))\n",
    "\n",
    "w2v_model.init_sims(replace=True)\n",
    "\n",
    "w2v_model.save(\"word2vec11.model\")\n",
    "\n",
    "word_vectors = Word2Vec.load(\"word2vec11.model\").wv\n",
    "model = KMeans(n_clusters=2, max_iter=1000, random_state=True, n_init=50).fit(X=word_vectors.vectors.astype('double'))\n",
    "positive_cluster_center = model.cluster_centers_[0]\n",
    "negative_cluster_center = model.cluster_centers_[1]\n",
    "\n",
    "model.cluster_centers_\n",
    "\n",
    "def cast_vector(row):\n",
    "    return np.array(list(map(lambda x: x.astype('double'), row)))\n",
    "\n",
    "words = pd.DataFrame(word_vectors.index_to_key)\n",
    "words.columns = ['words']\n",
    "words['vectors'] = words.words.apply(lambda x: word_vectors[f'{x}'])\n",
    "words['vectorsmean'] = words.vectors.apply(lambda x: x.mean())\n",
    "words['vectors_typed'] = words.vectors.apply(cast_vector)\n",
    "words['cluster'] = words.vectors_typed.apply(lambda x: model.predict([np.array(x, dtype=np.double)]))\n",
    "words.cluster = words.cluster.apply(lambda x: x[0])\n",
    "words['cluster_value'] = [1 if i==0 else -1 for i in words.cluster]\n",
    "words['closeness_score'] = words.apply(lambda x: 1/(model.transform([x.vectors]).min()), axis=1)\n",
    "words['sentiment_coeff'] = words.closeness_score * words.cluster_value\n",
    "\n",
    "words.head(10)\n",
    "\n",
    "u_labels = np.unique(words['cluster'])\n",
    "\n",
    "words['vectorsmean'] = words.vectors.apply(lambda x: x.mean())\n",
    "\n",
    "words['vectorsmean'][0]\n",
    "\n",
    "len(words[\"vectors\"][1])\n",
    "\n",
    "words.head(10)\n",
    "\n",
    "# FOr plotting \n",
    "\n",
    "colors = {1: 'black', -1: 'Red'}\n",
    "plt.scatter(words['sentiment_coeff'] , words['vectorsmean'] , c=words['cluster_value'].map(colors))\n",
    "\n",
    "plt.show()\n",
    "\n",
    "os.remove(\"floop_data_15k.csv\")\n",
    "os.remove(\"word2vec11.model\")"
   ]
  },
  {
   "cell_type": "code",
   "execution_count": 10,
   "metadata": {},
   "outputs": [],
   "source": []
  },
  {
   "cell_type": "code",
   "execution_count": null,
   "metadata": {},
   "outputs": [],
   "source": []
  },
  {
   "cell_type": "code",
   "execution_count": null,
   "metadata": {},
   "outputs": [],
   "source": []
  }
 ],
 "metadata": {
  "instance_type": "ml.t3.medium",
  "kernelspec": {
   "display_name": "Python 3 (Data Science)",
   "language": "python",
   "name": "python3__SAGEMAKER_INTERNAL__arn:aws:sagemaker:us-west-2:236514542706:image/datascience-1.0"
  },
  "language_info": {
   "codemirror_mode": {
    "name": "ipython",
    "version": 3
   },
   "file_extension": ".py",
   "mimetype": "text/x-python",
   "name": "python",
   "nbconvert_exporter": "python",
   "pygments_lexer": "ipython3",
   "version": "3.7.10"
  }
 },
 "nbformat": 4,
 "nbformat_minor": 4
}
