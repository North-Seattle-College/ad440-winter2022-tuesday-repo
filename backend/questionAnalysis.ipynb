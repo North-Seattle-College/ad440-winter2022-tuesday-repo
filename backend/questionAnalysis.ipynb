{
 "cells": [
  {
   "cell_type": "markdown",
   "id": "4ed7a1aa",
   "metadata": {},
   "source": [
    " # import librarys"
   ]
  },
  {
   "cell_type": "code",
   "execution_count": 377,
   "id": "aec8ca94",
   "metadata": {},
   "outputs": [
    {
     "name": "stderr",
     "output_type": "stream",
     "text": [
      "[nltk_data] Downloading package nps_chat to\n",
      "[nltk_data]     /home/ec2-user/nltk_data...\n",
      "[nltk_data]   Package nps_chat is already up-to-date!\n",
      "[nltk_data] Downloading package punkt to /home/ec2-user/nltk_data...\n",
      "[nltk_data]   Package punkt is already up-to-date!\n"
     ]
    }
   ],
   "source": [
    "import nltk\n",
    "nltk.download('nps_chat')\n",
    "nltk.download('punkt')\n",
    "import pandas as pd\n",
    "import matplotlib.pyplot as plt\n"
   ]
  },
  {
   "cell_type": "code",
   "execution_count": 378,
   "id": "9e526d4a",
   "metadata": {},
   "outputs": [],
   "source": [
    "import boto3\n",
    "from sagemaker import get_execution_role\n",
    "\n",
    "role = get_execution_role()\n",
    "bucket_name = 'deploy-sagemaker-conversation'\n",
    "\n",
    "\n",
    "s3_url = 's3://deploy-sagemaker-conversation/floop_data_15k.json'\n",
    "conn = boto3.client('s3')\n",
    "contents = conn.list_objects(Bucket = bucket_name)['Contents']\n",
    "\n",
    "s3 = boto3.resource('s3')"
   ]
  },
  {
   "cell_type": "code",
   "execution_count": 379,
   "id": "7a9029aa",
   "metadata": {},
   "outputs": [],
   "source": [
    "import json"
   ]
  },
  {
   "cell_type": "code",
   "execution_count": 380,
   "id": "b19fc5e6",
   "metadata": {},
   "outputs": [],
   "source": [
    "s3_client = boto3.client('s3')\n",
    "s3 = boto3.resource('s3')\n",
    "obj = s3.Object('deploy-sagemaker-conversation',\n",
    "                    'auto-floop-s3-export3.json')"
   ]
  },
  {
   "cell_type": "code",
   "execution_count": 381,
   "id": "230c760d",
   "metadata": {},
   "outputs": [
    {
     "name": "stdout",
     "output_type": "stream",
     "text": [
      "3831\n"
     ]
    }
   ],
   "source": [
    "data = json.load(obj.get()['Body'])\n",
    "\n",
    " \n",
    "#print(data)\n",
    "print(len(data))"
   ]
  },
  {
   "cell_type": "code",
   "execution_count": 382,
   "id": "f0ace913",
   "metadata": {},
   "outputs": [],
   "source": [
    "dataList=[]\n",
    "for x in range(50):\n",
    "    dataList.append(data[x])\n",
    "\n",
    "     \n",
    " "
   ]
  },
  {
   "cell_type": "code",
   "execution_count": 383,
   "id": "49b43817",
   "metadata": {},
   "outputs": [],
   "source": [
    "for x in dataList:\n",
    "     \n",
    "    for y in range(len(x)):\n",
    "             \n",
    "        sentence = x[y].get('Text')"
   ]
  },
  {
   "cell_type": "code",
   "execution_count": 384,
   "id": "74fca54c",
   "metadata": {},
   "outputs": [
    {
     "name": "stdout",
     "output_type": "stream",
     "text": [
      "['Eleborate and Write conclusion   3marks', 'If the temperature in a pond is lower, then the dissolved oxygen will be higher because gas escapes more readily in liquids at high temperature due to increased movement of kinetic energy (= increased movement of molecules)', 'Maybe there is a need to be clear about why they need large sums = e.g. think about the cost of the state of the art machinery that {{NAME}} uses in his factories.', 'iu98fgxv bm,÷\\n\"', 's-v', 'pronoun problem', '{{NAME}}, your handwriting is hard to read...please try printing...', 'Procedure', '{{ORGANIZATION}}', 'Nice paragraph!', \"Yes ma'am\", 'Its at the end next to {{NAME}}', 'We had a twelve word limit and  could and any more the the slide. Also, by overview, the is just an', '\"', '\"', '2.5 maks', 'Write proper intro and conclusion                                  Use textual language  and quality words and points                                  Write in points', 'Use textual language  and quality words and points', 'Use textual language  and quality words and points                                  Write in points', '1 mrk', '(3) In Tamil Nadu this movement took a violent form .           (4) The central government responded by agreeing to continue the                 use   of English along with Hindi for official purposes.', 'H/G/C  4.5/23', 'H/G/C 14.5/23', 'Q3.3   0 M     All points mention are not valid', 'there is another interval where it is increasing', 'Geog  7/8', 'H/G/C  SCORE   13/23', 'OM CORRECT ANSWER IS SORTED()', '3m', 'Correct', 'Geog   4/8', 'I want to tell you the programme that I like.', '{{NAME}},  Nice essay.  Please read my note carefully.   Some words were hard to read.', \"Proper  explanation is required  . Don't forget  to mention which are  angles 1,2,3,4\", 'So close.  Check your answer.  Does this work?  The initial value is not 2.', 'Time to go.', \"Write short simple sentences.  Your sentences are long and they don't make sense.  Remember we don't write as we speak.\", 'all good', 'It makes more sense to connect these two sentences.', 'cu. ft   -2', 'great interpretation here', 'language', 'no al ending', \"yes, it's y=0 since there is a cube in the denominator;   -1pt\", '\"Master Chef 4\"', '\"fiftieth second\" does not imply t=50', '#11 The correct answer should be 1,000,000. Great Job!', '#13 The correct answer is 23. Great job!', '#15 The correct answer is 14/25. (-1)', '#2 The correct answer is -4 sqrt 2. (-1)']\n"
     ]
    }
   ],
   "source": [
    "sentences = []\n",
    "for x in dataList:\n",
    "    for y in range(len(x)):       \n",
    "        sentence = x[y].get('Text')\n",
    "    sentences.append(sentence)\n",
    "print(sentences)"
   ]
  },
  {
   "cell_type": "code",
   "execution_count": 385,
   "id": "57b8ea3a",
   "metadata": {},
   "outputs": [],
   "source": [
    "dataset = conn.get_object(Bucket = bucket_name, Key = 'floop_data_15k.json')"
   ]
  },
  {
   "cell_type": "code",
   "execution_count": 386,
   "id": "34265a93",
   "metadata": {},
   "outputs": [
    {
     "data": {
      "text/plain": [
       "{'ResponseMetadata': {'RequestId': '5C3RHEFS774BA1KM',\n",
       "  'HostId': 'LGa79dDmkDKSzyYg+hTJh4fuBfquvHQ7xgFazMztAeYsxAugDfMJHauvZM+pQ/f2+xofV3UVajA=',\n",
       "  'HTTPStatusCode': 200,\n",
       "  'HTTPHeaders': {'x-amz-id-2': 'LGa79dDmkDKSzyYg+hTJh4fuBfquvHQ7xgFazMztAeYsxAugDfMJHauvZM+pQ/f2+xofV3UVajA=',\n",
       "   'x-amz-request-id': '5C3RHEFS774BA1KM',\n",
       "   'date': 'Wed, 09 Mar 2022 01:05:23 GMT',\n",
       "   'last-modified': 'Tue, 08 Mar 2022 03:46:41 GMT',\n",
       "   'etag': '\"a3348404dcdd900858622b6b828be02d\"',\n",
       "   'accept-ranges': 'bytes',\n",
       "   'content-type': 'application/json',\n",
       "   'server': 'AmazonS3',\n",
       "   'content-length': '993'},\n",
       "  'RetryAttempts': 0},\n",
       " 'AcceptRanges': 'bytes',\n",
       " 'LastModified': datetime.datetime(2022, 3, 8, 3, 46, 41, tzinfo=tzutc()),\n",
       " 'ContentLength': 993,\n",
       " 'ETag': '\"a3348404dcdd900858622b6b828be02d\"',\n",
       " 'ContentType': 'application/json',\n",
       " 'Metadata': {},\n",
       " 'Body': <botocore.response.StreamingBody at 0x7f5aa93ca748>}"
      ]
     },
     "execution_count": 386,
     "metadata": {},
     "output_type": "execute_result"
    }
   ],
   "source": [
    "s3_client.get_object(Bucket = bucket_name, Key = 'floop_data_15k.json')"
   ]
  },
  {
   "cell_type": "markdown",
   "id": "36984488",
   "metadata": {},
   "source": [
    "# Data"
   ]
  },
  {
   "cell_type": "code",
   "execution_count": 387,
   "id": "9f28cdaf",
   "metadata": {},
   "outputs": [],
   "source": [
    "posts = nltk.corpus.nps_chat.xml_posts()[:10000]\n",
    "\n",
    "Question_Words = [ 'where','how','why','did','do','does',\"isn't\",'has','am i', 'are','can','could','is','may',\"can't\", \n",
    "\"didn't\",'will','when',\"doesn't\",\"haven't\",'have','what',\"aren't\",'would',\"couldn't\",\"wouldn't\",\"won't\",\"shouldn't\",'should']"
   ]
  },
  {
   "cell_type": "markdown",
   "id": "1d645eb1",
   "metadata": {},
   "source": [
    "* input: chat posts\n",
    "* Tokenize sentences using NLTK's word_tokenize\n",
    "* return dict of tokenized words"
   ]
  },
  {
   "cell_type": "code",
   "execution_count": 388,
   "id": "3aa02ab4",
   "metadata": {},
   "outputs": [],
   "source": [
    "def post_features(post):\n",
    "    features = {}\n",
    "    for word in nltk.word_tokenize(post):\n",
    "        features['contains({})'.format(word.lower())] = True\n",
    "         \n",
    "    return features"
   ]
  },
  {
   "cell_type": "markdown",
   "id": "5e7bc724",
   "metadata": {},
   "source": [
    " 0. Input: none\n",
    " 1. Divide data into 80% training and 10% testing sets\n",
    " 2. Use NLTK's Multinomial Naive Bayes to perform classifcation    \n",
    " 3. Return: Classifier object"
   ]
  },
  {
   "cell_type": "code",
   "execution_count": 389,
   "id": "5456f4f4",
   "metadata": {},
   "outputs": [],
   "source": [
    "def perform_classification():\n",
    "        featuresets = [(post_features(post.text), post.get('class')) for post in posts]\n",
    "         \n",
    "         \n",
    "        training_size = int(len(featuresets) * 0.1)\n",
    "        train_set, test_set = featuresets[training_size:], featuresets[:training_size]\n",
    "         \n",
    "        classifier = nltk.NaiveBayesClassifier.train(train_set)\n",
    "         \n",
    "         \n",
    "        return classifier\n",
    "    \n",
    "    \n",
    "myclassifier= perform_classification()"
   ]
  },
  {
   "cell_type": "code",
   "execution_count": null,
   "id": "076620dd",
   "metadata": {},
   "outputs": [],
   "source": [
    " "
   ]
  },
  {
   "cell_type": "markdown",
   "id": "437b8e53",
   "metadata": {},
   "source": [
    "1. Input a sentence\n",
    "2. returns the type sentence"
   ]
  },
  {
   "cell_type": "code",
   "execution_count": 390,
   "id": "2123c405",
   "metadata": {},
   "outputs": [],
   "source": [
    "types = [\"whQuestion\",\"ynQuestion\",\"Statement\"]\n",
    "\n",
    "def is_ques(ques):\n",
    "    question_type = myclassifier.classify(post_features(ques)) \n",
    "     \n",
    "    return  question_type"
   ]
  },
  {
   "cell_type": "markdown",
   "id": "42f4ae6c",
   "metadata": {},
   "source": [
    "0. Method : IsQuestion\n",
    "1. Input: Sentence to be predicted\n",
    "2. Return: type of sentence it is using nltk "
   ]
  },
  {
   "cell_type": "code",
   "execution_count": 391,
   "id": "5b1b7e4c",
   "metadata": {},
   "outputs": [],
   "source": [
    "def predict(data):\n",
    "    type=is_ques(data)\n",
    "    #print(\"type is\"+type) \n",
    "    first_word = data.split()[0].lower()  \n",
    "    types=[]\n",
    "    \n",
    "    if  ((type==\"whQuestion\" or type== \"ynQuestion\") or (first_word in Question_Words ))  :\n",
    "             \n",
    "        types.append(\"Question\")\n",
    "    \n",
    "                                 \n",
    "    elif type==\"Statement\" or data.endswith(\".\")or data.endswith(\"!\"):\n",
    "         types.append(\"Statement\")\n",
    "            \n",
    "\n",
    "    else:        \n",
    "        types.append(\"garbled text\") \n",
    "    return types[0]"
   ]
  },
  {
   "cell_type": "code",
   "execution_count": 392,
   "id": "21b3e88e",
   "metadata": {},
   "outputs": [],
   "source": [
    "sent=\"More details.  A lot happened.\""
   ]
  },
  {
   "cell_type": "code",
   "execution_count": 393,
   "id": "6cd07735",
   "metadata": {},
   "outputs": [],
   "source": [
    "  \n",
    "diss=predict(sent)\n",
    "pred=[ ]\n",
    "pred.append(diss) "
   ]
  },
  {
   "cell_type": "code",
   "execution_count": 394,
   "id": "e7cc593a",
   "metadata": {},
   "outputs": [
    {
     "name": "stdout",
     "output_type": "stream",
     "text": [
      "{'sentence': 'Statement'}\n"
     ]
    }
   ],
   "source": [
    "mydat={\"sentence\":diss}\n",
    "print(mydat)"
   ]
  },
  {
   "cell_type": "code",
   "execution_count": 395,
   "id": "848855fc",
   "metadata": {},
   "outputs": [],
   "source": [
    "data = json.load(obj.get()['Body'])"
   ]
  },
  {
   "cell_type": "code",
   "execution_count": null,
   "id": "d24fcb44",
   "metadata": {},
   "outputs": [],
   "source": [
    " \n",
    " "
   ]
  },
  {
   "cell_type": "code",
   "execution_count": 396,
   "id": "dbb49b94",
   "metadata": {},
   "outputs": [
    {
     "name": "stdout",
     "output_type": "stream",
     "text": [
      "50\n"
     ]
    }
   ],
   "source": [
    "analysis=[]\n",
    "for i in sentences:\n",
    "     \n",
    "    analysis.append(predict(i))\n",
    "     \n",
    "    \n",
    "print(len(analysis)) "
   ]
  },
  {
   "cell_type": "code",
   "execution_count": 397,
   "id": "98d0029c",
   "metadata": {},
   "outputs": [],
   "source": [
    "result = pd.DataFrame({'Original Data':dataList, 'Sentence Analysis':analysis})"
   ]
  },
  {
   "cell_type": "code",
   "execution_count": 398,
   "id": "124e5116",
   "metadata": {},
   "outputs": [],
   "source": [
    "result.to_csv('results.csv')\n",
    "\n",
    " "
   ]
  },
  {
   "cell_type": "code",
   "execution_count": 399,
   "id": "9235cfe9",
   "metadata": {},
   "outputs": [
    {
     "name": "stdout",
     "output_type": "stream",
     "text": [
      "Statement       34\n",
      "garbled text    15\n",
      "Question         1\n",
      "Name: Sentence Analysis, dtype: int64\n"
     ]
    },
    {
     "data": {
      "image/png": "[encoded data removed]",
      "text/plain": [
       "<Figure size 432x288 with 1 Axes>"
      ]
     },
     "metadata": {},
     "output_type": "display_data"
    }
   ],
   "source": [
    "print(result['Sentence Analysis'].value_counts())\n",
    "plt.pie(result['Sentence Analysis'].value_counts(), labels = result['Sentence Analysis'].value_counts().keys(), autopct='%.1f%%')\n",
    "plt.show()"
   ]
  },
  {
   "cell_type": "code",
   "execution_count": null,
   "id": "4fb00fae",
   "metadata": {},
   "outputs": [],
   "source": []
  },
  {
   "cell_type": "code",
   "execution_count": null,
   "id": "21ad0d5e",
   "metadata": {},
   "outputs": [],
   "source": []
  },
  {
   "cell_type": "code",
   "execution_count": null,
   "id": "c1825c32",
   "metadata": {},
   "outputs": [],
   "source": []
  },
  {
   "cell_type": "code",
   "execution_count": null,
   "id": "391c35ff",
   "metadata": {},
   "outputs": [],
   "source": []
  }
 ],
 "metadata": {
  "kernelspec": {
   "display_name": "conda_python3",
   "language": "python",
   "name": "conda_python3"
  },
  "language_info": {
   "codemirror_mode": {
    "name": "ipython",
    "version": 3
   },
   "file_extension": ".py",
   "mimetype": "text/x-python",
   "name": "python",
   "nbconvert_exporter": "python",
   "pygments_lexer": "ipython3",
   "version": "3.6.13"
  }
 },
 "nbformat": 4,
 "nbformat_minor": 5
}
