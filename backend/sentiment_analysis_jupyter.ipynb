{
 "cells": [
  {
   "cell_type": "code",
   "execution_count": 3,
   "id": "62ddb82c",
   "metadata": {},
   "outputs": [
    {
     "name": "stdout",
     "output_type": "stream",
     "text": [
      "Libraries imported.\n"
     ]
    }
   ],
   "source": [
    "import string\n",
    "from nltk.sentiment.vader import SentimentIntensityAnalyzer\n",
    "import matplotlib.pyplot as plt\n",
    "from nltk.sentiment.vader import SentimentIntensityAnalyzer\n",
    "import matplotlib.pyplot as plt\n",
    "\n",
    "import logging  # Setting up the loggings to monitor gensim\n",
    "logging.basicConfig(format=\"%(levelname)s - %(asctime)s: %(message)s\", datefmt= '%H:%M:%S', level=logging.INFO)\n",
    "\n",
    "print('Libraries imported.')\n",
    "\n",
    "import pandas as pd"
   ]
  },
  {
   "cell_type": "code",
   "execution_count": 4,
   "id": "ed6a3f84",
   "metadata": {},
   "outputs": [],
   "source": [
    "import boto3\n",
    "import botocore\n",
    "from sagemaker import get_execution_role\n",
    "import sagemaker"
   ]
  },
  {
   "cell_type": "code",
   "execution_count": 5,
   "id": "6729280b",
   "metadata": {},
   "outputs": [],
   "source": [
    "sagemaker_session = sagemaker.Session()\n",
    "role = get_execution_role()\n",
    "bucket_name = 'deploy-sagemaker-conversation'\n",
    "\n",
    "\n",
    "s3_url = 's3://deploy-sagemaker-conversation/floop_data_15k.json'\n",
    "conn = boto3.client('s3')\n",
    "contents = conn.list_objects(Bucket = bucket_name)['Contents']\n",
    "\n",
    "s3 = boto3.resource('s3')"
   ]
  },
  {
   "cell_type": "code",
   "execution_count": 6,
   "id": "0a5ebfce",
   "metadata": {},
   "outputs": [],
   "source": [
    "import json\n",
    "from sagemaker import get_execution_role"
   ]
  },
  {
   "cell_type": "code",
   "execution_count": 7,
   "id": "efd96413",
   "metadata": {},
   "outputs": [],
   "source": [
    "\n",
    "s3_client = boto3.client('s3')\n"
   ]
  },
  {
   "cell_type": "code",
   "execution_count": 8,
   "id": "9f895ef8",
   "metadata": {},
   "outputs": [],
   "source": [
    "# s3_client.list_objects(Bucket = bucket_name)['Contents']\n"
   ]
  },
  {
   "cell_type": "code",
   "execution_count": 9,
   "id": "dbd9ffb7",
   "metadata": {},
   "outputs": [],
   "source": [
    "\n",
    "dataset = conn.get_object(Bucket = bucket_name, Key = 'floop_data_15k.json')\n"
   ]
  },
  {
   "cell_type": "code",
   "execution_count": 10,
   "id": "6262657e",
   "metadata": {},
   "outputs": [
    {
     "data": {
      "text/plain": [
       "{'ResponseMetadata': {'RequestId': 'X566KSZ2YPMGTTMZ',\n",
       "  'HostId': '1Lkxnlvm6mIYg4ojdSJ19Jnqa19Pv5vzhGIqzL8ODNIabqziqli28aDrg7SKhX2JS6buKINEiWo=',\n",
       "  'HTTPStatusCode': 200,\n",
       "  'HTTPHeaders': {'x-amz-id-2': '1Lkxnlvm6mIYg4ojdSJ19Jnqa19Pv5vzhGIqzL8ODNIabqziqli28aDrg7SKhX2JS6buKINEiWo=',\n",
       "   'x-amz-request-id': 'X566KSZ2YPMGTTMZ',\n",
       "   'date': 'Tue, 08 Mar 2022 01:49:04 GMT',\n",
       "   'last-modified': 'Sun, 27 Feb 2022 17:35:56 GMT',\n",
       "   'etag': '\"df723040ec35ba55ac530b7af5406251\"',\n",
       "   'accept-ranges': 'bytes',\n",
       "   'content-type': 'application/json',\n",
       "   'server': 'AmazonS3',\n",
       "   'content-length': '787897'},\n",
       "  'RetryAttempts': 0},\n",
       " 'AcceptRanges': 'bytes',\n",
       " 'LastModified': datetime.datetime(2022, 2, 27, 17, 35, 56, tzinfo=tzutc()),\n",
       " 'ContentLength': 787897,\n",
       " 'ETag': '\"df723040ec35ba55ac530b7af5406251\"',\n",
       " 'ContentType': 'application/json',\n",
       " 'Metadata': {},\n",
       " 'Body': <botocore.response.StreamingBody at 0x7f30e6880c18>}"
      ]
     },
     "execution_count": 10,
     "metadata": {},
     "output_type": "execute_result"
    }
   ],
   "source": [
    "\n",
    "s3_client.get_object(Bucket = bucket_name, Key = 'floop_data_15k.json')"
   ]
  },
  {
   "cell_type": "code",
   "execution_count": 11,
   "id": "0325e9eb",
   "metadata": {},
   "outputs": [
    {
     "name": "stderr",
     "output_type": "stream",
     "text": [
      "INFO - 01:49:05: ascii passed initial chaos probing. Mean measured chaos is 0.000000 %\n",
      "INFO - 01:49:05: ascii should target any language(s) of ['Latin Based']\n",
      "INFO - 01:49:05: We detected language [('English', 0.9048), ('Indonesian', 0.8571), ('Simple English', 0.8571)] using ascii\n",
      "INFO - 01:49:05: ascii is most likely the one. Stopping the process.\n",
      "INFO - 01:49:05: ascii passed initial chaos probing. Mean measured chaos is 0.000000 %\n",
      "INFO - 01:49:05: ascii should target any language(s) of ['Latin Based']\n",
      "INFO - 01:49:05: We detected language [('German', 0.8333), ('Hungarian', 0.8333), ('Slovak', 0.8333), ('English', 0.75), ('Dutch', 0.75), ('Italian', 0.75), ('Swedish', 0.75), ('Norwegian', 0.75), ('Czech', 0.75), ('Indonesian', 0.75), ('Danish', 0.75), ('Polish', 0.6667), ('Finnish', 0.6667), ('Slovene', 0.6667), ('Turkish', 0.5833), ('Vietnamese', 0.5), ('Lithuanian', 0.5)] using ascii\n",
      "INFO - 01:49:05: ascii is most likely the one. Stopping the process.\n",
      "INFO - 01:49:05: ascii passed initial chaos probing. Mean measured chaos is 0.000000 %\n",
      "INFO - 01:49:05: ascii should target any language(s) of ['Latin Based']\n",
      "INFO - 01:49:05: We detected language [('English', 1.0), ('Indonesian', 1.0), ('Simple English', 1.0)] using ascii\n",
      "INFO - 01:49:05: ascii is most likely the one. Stopping the process.\n",
      "INFO - 01:49:05: NumExpr defaulting to 2 threads.\n"
     ]
    },
    {
     "name": "stdout",
     "output_type": "stream",
     "text": [
      "Dataset imported\n"
     ]
    }
   ],
   "source": [
    "# Reading the Json file and convert to an list.\n",
    "\n",
    "\n",
    "path = 's3://deploy-sagemaker-conversation/floop_data_15k.json'\n",
    "dataset = pd.read_json(path).values.tolist()\n",
    "print('Dataset imported')"
   ]
  },
  {
   "cell_type": "code",
   "execution_count": 12,
   "id": "5581e9b3",
   "metadata": {},
   "outputs": [
    {
     "name": "stdout",
     "output_type": "stream",
     "text": [
      "Cleaned dataset\n"
     ]
    }
   ],
   "source": [
    "def clean_dataset(dataset):\n",
    "    \n",
    "    new_ds = map(lambda x: x[0].lower(),dataset)    \n",
    "\n",
    "    return list(new_ds)\n",
    "\n",
    "\n",
    "new_ds = clean_dataset(dataset)\n",
    "print('Cleaned dataset')"
   ]
  },
  {
   "cell_type": "code",
   "execution_count": null,
   "id": "11321efc",
   "metadata": {},
   "outputs": [],
   "source": []
  },
  {
   "cell_type": "code",
   "execution_count": null,
   "id": "ce599a89",
   "metadata": {},
   "outputs": [],
   "source": []
  },
  {
   "cell_type": "code",
   "execution_count": 13,
   "id": "11fa5dd4",
   "metadata": {},
   "outputs": [],
   "source": [
    "def sentiment_analysis(sentiment_text):\n",
    "    score = SentimentIntensityAnalyzer().polarity_scores(sentiment_text)\n",
    "    if score['neg'] > score['pos']:\n",
    "        return 'Negative'\n",
    "    elif score['neg'] < score['pos']:\n",
    "        return 'Positive'\n",
    "    else:\n",
    "        return 'Neutral'"
   ]
  },
  {
   "cell_type": "code",
   "execution_count": 14,
   "id": "0602571c",
   "metadata": {},
   "outputs": [],
   "source": [
    "# Define an list\n",
    "sentiments = []\n",
    "for i in new_ds:\n",
    "    sentiments.append(sentiment_analysis(i))"
   ]
  },
  {
   "cell_type": "code",
   "execution_count": 15,
   "id": "c3482a47",
   "metadata": {},
   "outputs": [],
   "source": [
    "result = pd.DataFrame({'Original Data':dataset, 'Sentiment Identified':sentiments})"
   ]
  },
  {
   "cell_type": "code",
   "execution_count": 16,
   "id": "2185da9e",
   "metadata": {},
   "outputs": [
    {
     "name": "stdout",
     "output_type": "stream",
     "text": [
      "                                           Original Data Sentiment Identified\n",
      "0                                   [What is this word?]              Neutral\n",
      "1                                      [pronoun problem]             Negative\n",
      "2                                                  [s-v]              Neutral\n",
      "3      [Use textual language  and quality words and p...              Neutral\n",
      "4      [If the temperature in a pond is lower, then t...             Positive\n",
      "...                                                  ...                  ...\n",
      "15612                                      [#9 is good!]             Positive\n",
      "15613  [#9 good explanation (also: your first stateme...             Positive\n",
      "15614   [#9 is best classified as an addition reaction.]             Positive\n",
      "15615  [#9 good catch on this one, it is No Solution ...             Positive\n",
      "15616  [#9 does not indicate greater than and it should]             Negative\n",
      "\n",
      "[15617 rows x 2 columns]\n",
      "Neutral     11331\n",
      "Positive     2777\n",
      "Negative     1509\n",
      "Name: Sentiment Identified, dtype: int64\n"
     ]
    },
    {
     "data": {
      "image/png": "[encoded data removed]",
      "text/plain": [
       "<Figure size 432x288 with 1 Axes>"
      ]
     },
     "metadata": {},
     "output_type": "display_data"
    }
   ],
   "source": [
    "result.to_csv('results.csv')\n",
    "\n",
    "print(result)\n",
    "\n",
    "print(result['Sentiment Identified'].value_counts())\n",
    "plt.pie(result['Sentiment Identified'].value_counts(), labels = result['Sentiment Identified'].value_counts().keys(), autopct='%.1f%%')\n",
    "plt.show()"
   ]
  },
  {
   "cell_type": "code",
   "execution_count": 24,
   "id": "c7c1887f",
   "metadata": {},
   "outputs": [],
   "source": [
    "s3_output = s3.Object(bucket_name,'floop_data_15k.json')"
   ]
  },
  {
   "cell_type": "code",
   "execution_count": 25,
   "id": "89720502",
   "metadata": {},
   "outputs": [],
   "source": [
    "json_output = json.dumps(format(result))"
   ]
  },
  {
   "cell_type": "code",
   "execution_count": 27,
   "id": "85593e02",
   "metadata": {},
   "outputs": [
    {
     "data": {
      "text/plain": [
       "{'ResponseMetadata': {'RequestId': 'FSFVB0GP6C64QFM3',\n",
       "  'HostId': 'WpJEOJDQwwTKNPC9jnYuyHc5DeJKl/TT5joQBo+vn9yZ+rwytFhaL5GKgUyKI4cLMRwsvLZ2P4k=',\n",
       "  'HTTPStatusCode': 200,\n",
       "  'HTTPHeaders': {'x-amz-id-2': 'WpJEOJDQwwTKNPC9jnYuyHc5DeJKl/TT5joQBo+vn9yZ+rwytFhaL5GKgUyKI4cLMRwsvLZ2P4k=',\n",
       "   'x-amz-request-id': 'FSFVB0GP6C64QFM3',\n",
       "   'date': 'Tue, 08 Mar 2022 03:23:32 GMT',\n",
       "   'etag': '\"a3348404dcdd900858622b6b828be02d\"',\n",
       "   'server': 'AmazonS3',\n",
       "   'content-length': '0'},\n",
       "  'RetryAttempts': 0},\n",
       " 'ETag': '\"a3348404dcdd900858622b6b828be02d\"'}"
      ]
     },
     "execution_count": 27,
     "metadata": {},
     "output_type": "execute_result"
    }
   ],
   "source": [
    "s3_output.put(Body=(bytes(json.dumps( json_output).encode('UTF-8'))), ContentType='application/json')"
   ]
  },
  {
   "cell_type": "code",
   "execution_count": null,
   "id": "802f9322",
   "metadata": {},
   "outputs": [],
   "source": []
  },
  {
   "cell_type": "code",
   "execution_count": null,
   "id": "96c04951",
   "metadata": {},
   "outputs": [],
   "source": []
  }
 ],
 "metadata": {
  "kernelspec": {
   "display_name": "conda_python3",
   "language": "python",
   "name": "conda_python3"
  },
  "language_info": {
   "codemirror_mode": {
    "name": "ipython",
    "version": 3
   },
   "file_extension": ".py",
   "mimetype": "text/x-python",
   "name": "python",
   "nbconvert_exporter": "python",
   "pygments_lexer": "ipython3",
   "version": "3.6.13"
  }
 },
 "nbformat": 4,
 "nbformat_minor": 5
}
