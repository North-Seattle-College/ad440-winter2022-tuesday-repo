{
 "cells": [
  {
   "cell_type": "code",
   "execution_count": 6,
   "id": "fafb3188",
   "metadata": {},
   "outputs": [],
   "source": [
    "import boto3\n"
   ]
  },
  {
   "cell_type": "code",
   "execution_count": 7,
   "id": "8c61a7e9",
   "metadata": {},
   "outputs": [
    {
     "name": "stdout",
     "output_type": "stream",
     "text": [
      "floop_data_15k.json\n"
     ]
    }
   ],
   "source": [
    "from boto3 import client\n",
    "\n",
    "conn = client('s3') \n",
    "for key in conn.list_objects(Bucket='sentiment-analysis-dg')['Contents']:\n",
    "    print(key['Key'])"
   ]
  },
  {
   "cell_type": "code",
   "execution_count": 8,
   "id": "0392aaa5",
   "metadata": {},
   "outputs": [
    {
     "name": "stderr",
     "output_type": "stream",
     "text": [
      "[nltk_data] Downloading package vader_lexicon to\n",
      "[nltk_data]     /home/ec2-user/nltk_data...\n",
      "[nltk_data]   Package vader_lexicon is already up-to-date!\n"
     ]
    },
    {
     "data": {
      "text/plain": [
       "True"
      ]
     },
     "execution_count": 8,
     "metadata": {},
     "output_type": "execute_result"
    }
   ],
   "source": [
    "import string\n",
    "import json\n",
    "\n",
    "import matplotlib.pyplot as plt\n",
    "from nltk.sentiment.vader import SentimentIntensityAnalyzer\n",
    "import matplotlib.pyplot as plt\n",
    "import nltk\n",
    "nltk.download('vader_lexicon')"
   ]
  },
  {
   "cell_type": "code",
   "execution_count": 9,
   "id": "ece72387",
   "metadata": {},
   "outputs": [
    {
     "name": "stdout",
     "output_type": "stream",
     "text": [
      "Libraries imported.\n"
     ]
    }
   ],
   "source": [
    "print('Libraries imported.')"
   ]
  },
  {
   "cell_type": "code",
   "execution_count": null,
   "id": "5956e71e",
   "metadata": {},
   "outputs": [],
   "source": [
    "import pandas as pd\n",
    "\n",
    "# Reading the Json file and convert to an list.\n",
    "\n",
    "\n",
    "path = input(\"Enter the file Path:\")\n",
    "dataset = pd.read_json(path).values.tolist()\n",
    "print('Dataset imported')\n",
    "\n",
    "\n",
    "def clean_dataset(dataset):\n",
    "    \n",
    "    new_ds = map(lambda x: x[0],dataset)    \n",
    "\n",
    "    return list(new_ds)\n",
    "\n",
    "\n",
    "new_ds = clean_dataset(dataset)\n",
    "print('Cleaned dataset')\n",
    "json_data=json.dumps(new_ds)\n",
    "print('****')\n",
    "\n",
    "\n",
    "def sentiment_analyse(sentiment_text):\n",
    "#     print('{}: '.format(sentiment_text), end = '')\n",
    "    score = SentimentIntensityAnalyzer().polarity_scores(sentiment_text)\n",
    "    if score['neg'] > score['pos']:\n",
    "        return 'Negative'\n",
    "    elif score['neg'] < score['pos']:\n",
    "        return 'Positive'\n",
    "    else:\n",
    "        return 'Neutral'\n",
    "\n",
    "\n",
    "# Define an list\n",
    "sentiments = []\n",
    "for i in json_data:\n",
    "    sentiments.append(sentiment_analyse(i))\n",
    "\n",
    "\n",
    "\n",
    "#result = pd.DataFrame(json_data, orient='index')\n",
    "#result = result.transpose()\n",
    "\n",
    "result = pd.DataFrame({'Original Data':dataset, 'Sentiment Identified':sentiments})\n",
    "\n",
    "\n",
    "result.to_csv('results.csvv')\n",
    "\n",
    "print(result)\n",
    "\n",
    "print(result['Sentiment Identified'].value_counts())\n",
    "plt.pie(result['Sentiment Identified'].value_counts(), labels = result['Sentiment Identified'].value_counts().keys(), autopct='%.1f%%')\n",
    "plt.show()"
   ]
  },
  {
   "cell_type": "code",
   "execution_count": null,
   "id": "f329bd23",
   "metadata": {},
   "outputs": [],
   "source": []
  }
 ],
 "metadata": {
  "kernelspec": {
   "display_name": "conda_python3",
   "language": "python",
   "name": "conda_python3"
  },
  "language_info": {
   "codemirror_mode": {
    "name": "ipython",
    "version": 3
   },
   "file_extension": ".py",
   "mimetype": "text/x-python",
   "name": "python",
   "nbconvert_exporter": "python",
   "pygments_lexer": "ipython3",
   "version": "3.6.13"
  }
 },
 "nbformat": 4,
 "nbformat_minor": 5
}
